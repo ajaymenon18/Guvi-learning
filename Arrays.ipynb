{
 "cells": [
  {
   "cell_type": "markdown",
   "id": "0b2da437",
   "metadata": {},
   "source": [
    "### You are given with two arrays. Your task is to merge the array such that first array is in ascending order and second one in descending order.\n",
    "\n",
    "Input Description:\n",
    "First line contains two integer ‘n’ and ‘m’. ‘n’ denotes length of array 1 and ‘m’ of array 2.Next line contains n space separated numbers and third line contains ‘m’ space separated numbers\n",
    "\n",
    "Output Description:\n",
    "Print a single array in desired order\n",
    "\n",
    "Sample Input :\n",
    "3 3\n",
    "23 15 16\n",
    "357 65 10\n",
    "Sample Output :\n",
    "15 16 23 357 65 10"
   ]
  },
  {
   "cell_type": "code",
   "execution_count": 14,
   "id": "ec5d500f",
   "metadata": {},
   "outputs": [
    {
     "name": "stdout",
     "output_type": "stream",
     "text": [
      "3 3\n",
      "4 5 1 \n",
      "1 2 3\n",
      "1 4 5 3 2 1 "
     ]
    }
   ],
   "source": [
    "x,y = input().split()\n",
    "x = int(x)\n",
    "y = int(y)\n",
    "\n",
    "a = [int(x) for x in input().split()]\n",
    "b = [int(y) for y in input().split()]\n",
    "\n",
    "a = sorted(a)\n",
    "b = sorted(b,reverse=True)\n",
    "\n",
    "c = a + b\n",
    "l = x + y\n",
    "\n",
    "for i in range(0,l):\n",
    "    print(c[i],end=\" \")"
   ]
  },
  {
   "cell_type": "code",
   "execution_count": null,
   "id": "494914d4",
   "metadata": {},
   "outputs": [],
   "source": []
  }
 ],
 "metadata": {
  "kernelspec": {
   "display_name": "Python 3 (ipykernel)",
   "language": "python",
   "name": "python3"
  },
  "language_info": {
   "codemirror_mode": {
    "name": "ipython",
    "version": 3
   },
   "file_extension": ".py",
   "mimetype": "text/x-python",
   "name": "python",
   "nbconvert_exporter": "python",
   "pygments_lexer": "ipython3",
   "version": "3.9.7"
  }
 },
 "nbformat": 4,
 "nbformat_minor": 5
}
