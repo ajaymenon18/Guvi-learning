{
 "cells": [
  {
   "cell_type": "markdown",
   "id": "5ef6af32",
   "metadata": {},
   "source": [
    "### Given a string 'S' print the sum of weight of the String. A weight of character is defined as the ASCII value of corresponding character. Input Description: You are given a string ‘s’ Output Description: Print weight : Sample Input : abc Sample Output : 294\n"
   ]
  },
  {
   "cell_type": "code",
   "execution_count": 2,
   "id": "45824970",
   "metadata": {},
   "outputs": [
    {
     "name": "stdout",
     "output_type": "stream",
     "text": [
      "abc\n",
      "294\n"
     ]
    }
   ],
   "source": [
    "s = input()\n",
    "su = 0\n",
    "str_len = len(s)\n",
    "\n",
    "for i in range(0,str_len):\n",
    "    su = su + ord(s[i])\n",
    "    \n",
    "print(su)\n",
    "    "
   ]
  },
  {
   "cell_type": "markdown",
   "id": "4781a030",
   "metadata": {},
   "source": [
    "###  Jennyfer is fond of strings. She wants to read the character from right to left (reverse the string), so she wants you to design a suitable algorithm which satisfy her desire. Input Description: Enter the string ‘s’ Output Description: Print the string from characters right to left. Sample Input  jennyfer Sample Output : Refynnej"
   ]
  },
  {
   "cell_type": "code",
   "execution_count": 9,
   "id": "7859c34d",
   "metadata": {},
   "outputs": [
    {
     "name": "stdout",
     "output_type": "stream",
     "text": [
      "Ajay Menon\n",
      "Nonem yaja\n"
     ]
    }
   ],
   "source": [
    "s = input()\n",
    "s = s[::-1]\n",
    "print(s.capitalize())\n"
   ]
  },
  {
   "cell_type": "markdown",
   "id": "8639e33d",
   "metadata": {},
   "source": [
    "###  Radha newly learnt about palindromic strings.A palindromic string is a string which is same when read from left to right and also from right to left.Help her in implementing the logic. Input Description: You are given a String ‘s’ Output Description: Print 1 if String is palindrome or 0 if not Sample Input : NITIN Sample Output : 1"
   ]
  },
  {
   "cell_type": "code",
   "execution_count": 15,
   "id": "99337b64",
   "metadata": {},
   "outputs": [
    {
     "name": "stdout",
     "output_type": "stream",
     "text": [
      "abc\n",
      "Abc\n",
      "Cba\n",
      "0\n"
     ]
    }
   ],
   "source": [
    "s = input()\n",
    "k = s.capitalize()\n",
    "print(k)\n",
    "s = s[::-1]\n",
    "s = s.capitalize()\n",
    "print(s)\n",
    "if k == s:\n",
    "    print(\"1\")\n",
    "else:\n",
    "    print(\"0\")"
   ]
  },
  {
   "cell_type": "markdown",
   "id": "7cc0ec05",
   "metadata": {},
   "source": [
    "### You are given a number with duplicate digits your task is to remove the immediate duplicate digits and print the result                                                                                                                                                                                                  Input Description: You are given a long string of digits                                                                                                        Output Description: Print the desired result print -1 if result length is 0 Sample Input : 1331 Sample Output : 11"
   ]
  },
  {
   "cell_type": "code",
   "execution_count": null,
   "id": "884a5ce6",
   "metadata": {},
   "outputs": [],
   "source": []
  }
 ],
 "metadata": {
  "kernelspec": {
   "display_name": "Python 3 (ipykernel)",
   "language": "python",
   "name": "python3"
  },
  "language_info": {
   "codemirror_mode": {
    "name": "ipython",
    "version": 3
   },
   "file_extension": ".py",
   "mimetype": "text/x-python",
   "name": "python",
   "nbconvert_exporter": "python",
   "pygments_lexer": "ipython3",
   "version": "3.9.7"
  }
 },
 "nbformat": 4,
 "nbformat_minor": 5
}
